{
 "cells": [
  {
   "cell_type": "code",
   "execution_count": 1,
   "id": "c39f19d7-5c4a-45fc-b0cf-108a6fdab86f",
   "metadata": {},
   "outputs": [
    {
     "ename": "SyntaxError",
     "evalue": "invalid syntax (2918690911.py, line 4)",
     "output_type": "error",
     "traceback": [
      "\u001b[0;36m  Cell \u001b[0;32mIn[1], line 4\u001b[0;36m\u001b[0m\n\u001b[0;31m    The predicted value of N2O is that of two minutes ago.\u001b[0m\n\u001b[0m        ^\u001b[0m\n\u001b[0;31mSyntaxError\u001b[0m\u001b[0;31m:\u001b[0m invalid syntax\n"
     ]
    }
   ],
   "source": [
    "## BASE MODELS\n",
    "\n",
    "#### 2 Minute Naive\n",
    "The predicted value of N2O is that of two minutes ago."
   ]
  },
  {
   "cell_type": "code",
   "execution_count": 3,
   "id": "8b060e89-a007-4f02-b57b-ba7bac3ad3a2",
   "metadata": {},
   "outputs": [
    {
     "ename": "NameError",
     "evalue": "name 'df' is not defined",
     "output_type": "error",
     "traceback": [
      "\u001b[0;31m---------------------------------------------------------------------------\u001b[0m",
      "\u001b[0;31mNameError\u001b[0m                                 Traceback (most recent call last)",
      "Cell \u001b[0;32mIn[3], line 1\u001b[0m\n\u001b[0;32m----> 1\u001b[0m df[\u001b[38;5;124m'\u001b[39m\u001b[38;5;124mN2O_t-1\u001b[39m\u001b[38;5;124m'\u001b[39m] \u001b[38;5;241m=\u001b[39m df[\u001b[38;5;124m'\u001b[39m\u001b[38;5;124mN2O\u001b[39m\u001b[38;5;124m'\u001b[39m]\u001b[38;5;241m.\u001b[39mshift(\u001b[38;5;241m1\u001b[39m)\n\u001b[1;32m      3\u001b[0m df_training \u001b[38;5;241m=\u001b[39m df\u001b[38;5;241m.\u001b[39mdropna()[[\u001b[38;5;124m'\u001b[39m\u001b[38;5;124mN2O\u001b[39m\u001b[38;5;124m'\u001b[39m,\u001b[38;5;124m'\u001b[39m\u001b[38;5;124mN2O_t-1\u001b[39m\u001b[38;5;124m'\u001b[39m]]\n\u001b[1;32m      5\u001b[0m baseline_error \u001b[38;5;241m=\u001b[39m mean_squared_error(df_training[\u001b[38;5;124m'\u001b[39m\u001b[38;5;124mN2O\u001b[39m\u001b[38;5;124m'\u001b[39m], df_training[\u001b[38;5;124m'\u001b[39m\u001b[38;5;124mN2O_t-1\u001b[39m\u001b[38;5;124m'\u001b[39m])\n",
      "\u001b[0;31mNameError\u001b[0m: name 'df' is not defined"
     ]
    }
   ],
   "source": [
    "df['N2O_t-1'] = df['N2O'].shift(1)\n",
    "\n",
    "df_training = df.dropna()[['N2O','N2O_t-1']]\n",
    "\n",
    "baseline_error = mean_squared_error(df_training['N2O'], df_training['N2O_t-1'])\n",
    "print(\"The baseline error is: \", baseline_error, \".\")"
   ]
  },
  {
   "cell_type": "code",
   "execution_count": 5,
   "id": "a972dff3-4a32-4e45-b5e6-a107db529be3",
   "metadata": {},
   "outputs": [
    {
     "ename": "NameError",
     "evalue": "name 'df_training' is not defined",
     "output_type": "error",
     "traceback": [
      "\u001b[0;31m---------------------------------------------------------------------------\u001b[0m",
      "\u001b[0;31mNameError\u001b[0m                                 Traceback (most recent call last)",
      "Cell \u001b[0;32mIn[5], line 1\u001b[0m\n\u001b[0;32m----> 1\u001b[0m df_training_extreme_N2O \u001b[38;5;241m=\u001b[39m df_training[df_training[\u001b[38;5;124m'\u001b[39m\u001b[38;5;124mN2O\u001b[39m\u001b[38;5;124m'\u001b[39m] \u001b[38;5;241m>\u001b[39m \u001b[38;5;241m2\u001b[39m]\n\u001b[1;32m      3\u001b[0m extreme_baseline_error \u001b[38;5;241m=\u001b[39m mean_squared_error(df_training_extreme_N2O[\u001b[38;5;124m'\u001b[39m\u001b[38;5;124mN2O\u001b[39m\u001b[38;5;124m'\u001b[39m], df_training_extreme_N2O[\u001b[38;5;124m'\u001b[39m\u001b[38;5;124mN2O_t-1\u001b[39m\u001b[38;5;124m'\u001b[39m])\n\u001b[1;32m      4\u001b[0m \u001b[38;5;28mprint\u001b[39m(\u001b[38;5;124m\"\u001b[39m\u001b[38;5;124mThe baseline error when predicting extreme values of N2O is: \u001b[39m\u001b[38;5;124m\"\u001b[39m, extreme_baseline_error, \u001b[38;5;124m\"\u001b[39m\u001b[38;5;124m.\u001b[39m\u001b[38;5;124m\"\u001b[39m)\n",
      "\u001b[0;31mNameError\u001b[0m: name 'df_training' is not defined"
     ]
    }
   ],
   "source": [
    "df_training_extreme_N2O = df_training[df_training['N2O'] > 2]\n",
    "\n",
    "extreme_baseline_error = mean_squared_error(df_training_extreme_N2O['N2O'], df_training_extreme_N2O['N2O_t-1'])\n",
    "print(\"The baseline error when predicting extreme values of N2O is: \", extreme_baseline_error, \".\")"
   ]
  },
  {
   "cell_type": "code",
   "execution_count": 7,
   "id": "6126edaa-222c-4aa7-8814-a6831428ab3c",
   "metadata": {},
   "outputs": [
    {
     "ename": "SyntaxError",
     "evalue": "illegal target for annotation (2898422979.py, line 3)",
     "output_type": "error",
     "traceback": [
      "\u001b[0;36m  Cell \u001b[0;32mIn[7], line 3\u001b[0;36m\u001b[0m\n\u001b[0;31m    - MSE: 0.004439092843697406\u001b[0m\n\u001b[0m    ^\u001b[0m\n\u001b[0;31mSyntaxError\u001b[0m\u001b[0;31m:\u001b[0m illegal target for annotation\n"
     ]
    }
   ],
   "source": [
    "#### 2 Minute Naive\n",
    "\n",
    "- MSE: 0.004439092843697406\n",
    "- MSE on extreme N2O readings: 11.144196103956263\n",
    "\n",
    "#### Simple Linear Regression\n",
    "\n",
    "Linear Regression on airflow, N2O, NH4, NO3, DO, SS, temperature, PO4, wastewater inflow"
   ]
  },
  {
   "cell_type": "code",
   "execution_count": 9,
   "id": "d88ba90c-1f27-4866-859e-8d0cab175758",
   "metadata": {},
   "outputs": [
    {
     "ename": "NameError",
     "evalue": "name 'df' is not defined",
     "output_type": "error",
     "traceback": [
      "\u001b[0;31m---------------------------------------------------------------------------\u001b[0m",
      "\u001b[0;31mNameError\u001b[0m                                 Traceback (most recent call last)",
      "Cell \u001b[0;32mIn[9], line 1\u001b[0m\n\u001b[0;32m----> 1\u001b[0m df_cleaned_rows \u001b[38;5;241m=\u001b[39m df\u001b[38;5;241m.\u001b[39mdropna()\n\u001b[1;32m      2\u001b[0m df_cleaned_rows \u001b[38;5;241m=\u001b[39m df_cleaned_rows\u001b[38;5;241m.\u001b[39mdrop(columns \u001b[38;5;241m=\u001b[39m [\u001b[38;5;124m'\u001b[39m\u001b[38;5;124mtime\u001b[39m\u001b[38;5;124m'\u001b[39m])\n",
      "\u001b[0;31mNameError\u001b[0m: name 'df' is not defined"
     ]
    }
   ],
   "source": [
    "df_cleaned_rows = df.dropna()\n",
    "df_cleaned_rows = df_cleaned_rows.drop(columns = ['time'])"
   ]
  },
  {
   "cell_type": "code",
   "execution_count": null,
   "id": "f80bab9d-a282-4cbd-ab18-7166894a9b7e",
   "metadata": {},
   "outputs": [],
   "source": [
    "df_cleaned_rows = df_cleaned_rows[df_cleaned_rows['N2O'] >= 0]\n",
    "df_cleaned_rows = df_cleaned_rows[df_cleaned_rows['NH4'] >= 0]"
   ]
  },
  {
   "cell_type": "code",
   "execution_count": null,
   "id": "ac134fb7-1e65-4e76-bd83-e756c6b9a5cd",
   "metadata": {},
   "outputs": [],
   "source": [
    "extreme_n2o = df_cleaned_rows[df_cleaned_rows['N2O'] > 2]"
   ]
  },
  {
   "cell_type": "code",
   "execution_count": null,
   "id": "9694901a-3dc9-43de-9c30-a7226e2b5fc5",
   "metadata": {},
   "outputs": [],
   "source": [
    "X = df_cleaned_rows.drop(columns = ['N2O'])\n",
    "y = df_cleaned_rows['N2O']"
   ]
  },
  {
   "cell_type": "code",
   "execution_count": null,
   "id": "999159f6-70a6-431c-8753-e6409c2e9a4e",
   "metadata": {},
   "outputs": [],
   "source": [
    "X_train, X_test, y_train, y_test = train_test_split(X, y, test_size = 0.20, random_state = 222)"
   ]
  },
  {
   "cell_type": "code",
   "execution_count": null,
   "id": "850674fb-e97d-47d0-bdfa-c49ea8a1a1fc",
   "metadata": {},
   "outputs": [],
   "source": [
    "lr = LinearRegression()\n",
    "lr.fit(X_train, y_train)"
   ]
  },
  {
   "cell_type": "code",
   "execution_count": null,
   "id": "8e12250d-16f1-401a-98ab-410a8d1e76a8",
   "metadata": {},
   "outputs": [],
   "source": [
    "print(\"model error: \", mean_squared_error(lr.predict(extreme_n2o.drop(columns = ['N2O'])), extreme_n2o['N2O']))\n",
    "print(\"baseline error: \", mean_squared_error(extreme_n2o['N2O'], extreme_n2o['N2O_t-1']))"
   ]
  },
  {
   "cell_type": "code",
   "execution_count": null,
   "id": "56e1bc9f-c5c4-4e92-9e99-1c304f904097",
   "metadata": {},
   "outputs": [],
   "source": [
    "\n",
    "df['N2O_t-5'] = df['N2O'].shift(5)\n",
    "df['N2O_t-10'] = df['N2O'].shift(10)\n",
    "\n",
    "df['NH4_t-5'] = df['NH4'].shift(5)\n",
    "df['NH4_t-10'] = df['NH4'].shift(10)\n",
    "\n",
    "df['NH4_t-20'] = df['NH4'].shift(20)\n",
    "df['NH4_t-30'] = df['NH4'].shift(30)\n",
    "\n",
    "df['NO3_t-5'] = df['NO3'].shift(5)\n",
    "df['NO3_t-10'] = df['NO3'].shift(10)\n",
    "\n",
    "df['NO3_t-20'] = df['NO3'].shift(20)\n",
    "df['NO3_t-30'] = df['NO3'].shift(30)\n",
    "\n",
    "df['DO_t-5'] = df['DO'].shift(5)\n",
    "df['DO_t-10'] = df['DO'].shift(10)\n",
    "\n",
    "df['DO_t-20'] = df['DO'].shift(20)\n",
    "df['DO_t-30'] = df['DO'].shift(30)\n",
    "\n",
    "df['temperature_t-20'] = df['temperature'].shift(20)\n",
    "df['temperature_t-30'] = df['temperature'].shift(30)\n",
    "\n",
    "df['SS_t-5'] = df['SS'].shift(5)\n",
    "df['SS_t-10'] = df['SS'].shift(10)"
   ]
  }
 ],
 "metadata": {
  "kernelspec": {
   "display_name": "Python [conda env:base] *",
   "language": "python",
   "name": "conda-base-py"
  },
  "language_info": {
   "codemirror_mode": {
    "name": "ipython",
    "version": 3
   },
   "file_extension": ".py",
   "mimetype": "text/x-python",
   "name": "python",
   "nbconvert_exporter": "python",
   "pygments_lexer": "ipython3",
   "version": "3.12.2"
  }
 },
 "nbformat": 4,
 "nbformat_minor": 5
}
