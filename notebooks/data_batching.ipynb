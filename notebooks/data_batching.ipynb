{
 "cells": [
  {
   "cell_type": "code",
   "execution_count": 257,
   "id": "e81e30b1-7f91-4220-b212-7ac8f638e044",
   "metadata": {},
   "outputs": [],
   "source": [
    "import pandas as pd\n",
    "import numpy as np\n",
    "\n",
    "import matplotlib.pyplot as plt"
   ]
  },
  {
   "cell_type": "code",
   "execution_count": 259,
   "id": "cc50d2fb-e21c-4563-b055-391cfdeee00b",
   "metadata": {},
   "outputs": [],
   "source": [
    "# Load processed CSV file\n",
    "\n",
    "processed_file_path = '../data/processed/'\n",
    "processed_file_name = 'wastewater_tank1_processed.csv'\n",
    "\n",
    "fig_file_path = '../figures/'\n",
    "\n",
    "df = pd.read_csv(processed_file_path + processed_file_name, index_col = 0, parse_dates=True)"
   ]
  },
  {
   "cell_type": "code",
   "execution_count": 261,
   "id": "dee40ab5-f1e9-4bb9-972d-bc8fdb3b9b43",
   "metadata": {},
   "outputs": [],
   "source": [
    "cols_to_keep = ['N2O', 'NH4', 'NO3']"
   ]
  },
  {
   "cell_type": "code",
   "execution_count": 263,
   "id": "aa67f403-78b4-4c13-af06-5400e90d6cee",
   "metadata": {},
   "outputs": [
    {
     "name": "stdout",
     "output_type": "stream",
     "text": [
      "cols with any missing values:  1018\n",
      "cols with all missing values:  1018\n"
     ]
    }
   ],
   "source": [
    "any_nan = df[df[cols_to_keep].isna().any(axis = 1)][cols_to_keep]\n",
    "all_nan = df[df[cols_to_keep].isna().all(axis = 1)][cols_to_keep]\n",
    "\n",
    "print(\"cols with any missing values: \", any_nan.shape[0])\n",
    "print(\"cols with all missing values: \", all_nan.shape[0])"
   ]
  },
  {
   "cell_type": "code",
   "execution_count": 265,
   "id": "6eb824a6-5e0d-45e4-8fd4-f28bd02d001b",
   "metadata": {},
   "outputs": [],
   "source": [
    "any_nan_row_inds = any_nan.index.to_list()"
   ]
  },
  {
   "cell_type": "code",
   "execution_count": 267,
   "id": "9ced6510-0a51-4b17-a913-4c73253b678d",
   "metadata": {},
   "outputs": [
    {
     "data": {
      "text/plain": [
       "(array([  6.,   0.,   0.,   0.,  64.,   0.,  53.,   0.,   0.,   0.,   0.,\n",
       "          0.,   0.,  15.,   0.,   0., 143., 252.,   0.,   9.,   0.,   0.,\n",
       "          0.,   0.,   3.,   0.,   0.,   0.,   0.,   0.,   0.,   0.,   6.,\n",
       "          0.,   0.,   0.,   0.,   0.,   0.,   0.,   0., 450.,   0.,   0.,\n",
       "          0.,   0.,   0.,   5.,   3.,   9.]),\n",
       " array([19222.35416667, 19235.25180556, 19248.14944444, 19261.04708333,\n",
       "        19273.94472222, 19286.84236111, 19299.74      , 19312.63763889,\n",
       "        19325.53527778, 19338.43291667, 19351.33055556, 19364.22819444,\n",
       "        19377.12583333, 19390.02347222, 19402.92111111, 19415.81875   ,\n",
       "        19428.71638889, 19441.61402778, 19454.51166667, 19467.40930556,\n",
       "        19480.30694444, 19493.20458333, 19506.10222222, 19518.99986111,\n",
       "        19531.8975    , 19544.79513889, 19557.69277778, 19570.59041667,\n",
       "        19583.48805556, 19596.38569444, 19609.28333333, 19622.18097222,\n",
       "        19635.07861111, 19647.97625   , 19660.87388889, 19673.77152778,\n",
       "        19686.66916667, 19699.56680556, 19712.46444444, 19725.36208333,\n",
       "        19738.25972222, 19751.15736111, 19764.055     , 19776.95263889,\n",
       "        19789.85027778, 19802.74791667, 19815.64555556, 19828.54319444,\n",
       "        19841.44083333, 19854.33847222, 19867.23611111]),\n",
       " <BarContainer object of 50 artists>)"
      ]
     },
     "execution_count": 267,
     "metadata": {},
     "output_type": "execute_result"
    },
    {
     "data": {
      "image/png": "[encoded data removed]",
      "text/plain": [
       "<Figure size 640x480 with 1 Axes>"
      ]
     },
     "metadata": {},
     "output_type": "display_data"
    }
   ],
   "source": [
    "plt.hist(any_nan_row_inds, bins = 50)"
   ]
  },
  {
   "cell_type": "code",
   "execution_count": 269,
   "id": "6828fb18-9c2c-4b22-9fed-811c5aee54a8",
   "metadata": {},
   "outputs": [],
   "source": [
    "df = df[cols_to_keep]"
   ]
  },
  {
   "cell_type": "code",
   "execution_count": 273,
   "id": "8c6c9c70-0b21-4f22-b31d-b55eea37dc9e",
   "metadata": {},
   "outputs": [
    {
     "data": {
      "text/html": [
       "<div>\n",
       "<style scoped>\n",
       "    .dataframe tbody tr th:only-of-type {\n",
       "        vertical-align: middle;\n",
       "    }\n",
       "\n",
       "    .dataframe tbody tr th {\n",
       "        vertical-align: top;\n",
       "    }\n",
       "\n",
       "    .dataframe thead th {\n",
       "        text-align: right;\n",
       "    }\n",
       "</style>\n",
       "<table border=\"1\" class=\"dataframe\">\n",
       "  <thead>\n",
       "    <tr style=\"text-align: right;\">\n",
       "      <th></th>\n",
       "      <th>N2O</th>\n",
       "      <th>NH4</th>\n",
       "      <th>NO3</th>\n",
       "    </tr>\n",
       "    <tr>\n",
       "      <th>time</th>\n",
       "      <th></th>\n",
       "      <th></th>\n",
       "      <th></th>\n",
       "    </tr>\n",
       "  </thead>\n",
       "  <tbody>\n",
       "    <tr>\n",
       "      <th>2022-06-11 23:00:00</th>\n",
       "      <td>0.646991</td>\n",
       "      <td>1.480606</td>\n",
       "      <td>0.061391</td>\n",
       "    </tr>\n",
       "    <tr>\n",
       "      <th>2022-06-11 23:10:00</th>\n",
       "      <td>0.578038</td>\n",
       "      <td>1.619492</td>\n",
       "      <td>0.018822</td>\n",
       "    </tr>\n",
       "    <tr>\n",
       "      <th>2022-06-11 23:20:00</th>\n",
       "      <td>0.509606</td>\n",
       "      <td>2.186933</td>\n",
       "      <td>0.005908</td>\n",
       "    </tr>\n",
       "    <tr>\n",
       "      <th>2022-06-11 23:30:00</th>\n",
       "      <td>0.470197</td>\n",
       "      <td>2.274744</td>\n",
       "      <td>0.123406</td>\n",
       "    </tr>\n",
       "    <tr>\n",
       "      <th>2022-06-11 23:40:00</th>\n",
       "      <td>0.493895</td>\n",
       "      <td>2.413906</td>\n",
       "      <td>0.482552</td>\n",
       "    </tr>\n",
       "  </tbody>\n",
       "</table>\n",
       "</div>"
      ],
      "text/plain": [
       "                          N2O       NH4       NO3\n",
       "time                                             \n",
       "2022-06-11 23:00:00  0.646991  1.480606  0.061391\n",
       "2022-06-11 23:10:00  0.578038  1.619492  0.018822\n",
       "2022-06-11 23:20:00  0.509606  2.186933  0.005908\n",
       "2022-06-11 23:30:00  0.470197  2.274744  0.123406\n",
       "2022-06-11 23:40:00  0.493895  2.413906  0.482552"
      ]
     },
     "execution_count": 273,
     "metadata": {},
     "output_type": "execute_result"
    }
   ],
   "source": [
    "df.head()"
   ]
  },
  {
   "cell_type": "code",
   "execution_count": 277,
   "id": "12c2077d-072e-428e-8a7f-d2039bbdb8fc",
   "metadata": {},
   "outputs": [],
   "source": [
    "processed_file_path = '../data/processed/'\n",
    "\n",
    "tenth_df = len(df) // 10\n",
    "\n",
    "def create_lagged_dps(df, cols_to_lag = ('N2O', 'NH4', 'NO3'), lag_by = 20, target = 'N2O', target_lead_by = 2):\n",
    "    \"\"\"\n",
    "    Adds lag and lead columns to a given df.\n",
    "    \n",
    "    Args:\n",
    "        df (DataFrame): The DataFrame within which to lag features\n",
    "        cols_to_lag (tuple of strings): Tuple containing the name of the columns in df to be lagged.\n",
    "        lag_by (int): The number of lags to create, from lag 1 upto `lag_by`.\n",
    "        target (string): Target variable column, to lead forward.\n",
    "        target_lead_by (int): How many values to lead the target forward by.\n",
    "    \n",
    "    Returns:\n",
    "        df (DataFrame): DataFrame with lagged columns.\n",
    "    \"\"\"\n",
    "\n",
    "    # Lag each `col` in `cols_to_lag` by upto `lag_by` values into the past.\n",
    "    \n",
    "    for col in cols_to_lag:\n",
    "        for lag in range(1, lag_by + 1):\n",
    "            \n",
    "            lagged_col_name = f\"{col}_lag{lag}\"\n",
    "\n",
    "            df[lagged_col_name] = df[col].shift(lag)\n",
    "\n",
    "    # Lead `target` column forwards by upto `target_lead_by` values.\n",
    "\n",
    "    for lead in range(1, target_lead_by + 1):\n",
    "        lead_col_name = f\"{target}_lead{lead}\"\n",
    "        \n",
    "        df[lead_col_name] = df[target].shift(-lead)\n",
    "\n",
    "    return df\n",
    "\n",
    "\n",
    "\n",
    "for i in range(9):\n",
    "    \n",
    "    df_split = df[i*tenth_df:(i + 1)*tenth_df].copy()\n",
    "\n",
    "    df_split = create_lagged_dps(df_split)\n",
    "\n",
    "    df_split = df_split.dropna(how = 'any')\n",
    "\n",
    "    split_file_name = f'wastewater_tank1_processed_split_{i + 1}.csv'\n",
    "    \n",
    "    df_split.to_csv(processed_file_path + split_file_name, index = True)\n",
    "\n",
    "\n",
    "df_split_test = df[9*tenth_df:].copy()\n",
    "\n",
    "df_split_test = create_lagged_dps(df_split_test)\n",
    "\n",
    "df_split_test = df_split_test.dropna(how = 'any')\n",
    "\n",
    "split_test_file_name = f'wastewater_tank1_processed_test.csv'\n",
    "    \n",
    "df_split_test.to_csv(processed_file_path + split_test_file_name, index = True)\n"
   ]
  }
 ],
 "metadata": {
  "kernelspec": {
   "display_name": "Python [conda env:base] *",
   "language": "python",
   "name": "conda-base-py"
  },
  "language_info": {
   "codemirror_mode": {
    "name": "ipython",
    "version": 3
   },
   "file_extension": ".py",
   "mimetype": "text/x-python",
   "name": "python",
   "nbconvert_exporter": "python",
   "pygments_lexer": "ipython3",
   "version": "3.12.2"
  }
 },
 "nbformat": 4,
 "nbformat_minor": 5
}
