{
 "cells": [
  {
   "cell_type": "code",
   "execution_count": null,
   "id": "7dc6b94b-890c-4ae0-9bbf-138782ec89d2",
   "metadata": {},
   "outputs": [],
   "source": [
    "ROWS_IN_A_DAY = int(24*60/2)\n",
    "ROWS_IN_A_WEEK = ROWS_IN_A_DAY*7\n",
    "\n",
    "cols_to_plot = ['N2O', 'NH4', 'NO3', 'PO4', 'DO', 'SS','temperature', 'airflow', 'wastewater_inflow']\n",
    "cols_units = ['mg-N/L', 'mg-N/L', 'mg-N/L', 'mg-P/L', 'mg/L', 'g/L', '°C', 'Nm$^3$/h', 'm$^3$/h']\n",
    "\n",
    "colors = [\n",
    "    \"#1f77b4\",  # muted blue\n",
    "    \"#ff7f0e\",  # orange\n",
    "    \"#2ca02c\",  # green\n",
    "    \"#d62728\",  # red\n",
    "    \"#9467bd\",  # purple\n",
    "    \"#8c564b\",  # brown\n",
    "    \"#e377c2\",  # pink\n",
    "    \"#7f7f7f\",  # gray\n",
    "    \"#17becf\",  # cyan\n",
    "]\n",
    "\n",
    "n_plots = len(cols_to_plot)\n",
    "\n",
    "IND = 500000\n",
    "\n",
    "\n",
    "one_day_snapshot = df.iloc[IND:IND + ROWS_IN_A_WEEK]\n",
    "\n",
    "time_values = one_day_snapshot['time'].to_numpy()\n",
    "\n",
    "fig, ax = plt.subplots(n_plots, 1, figsize=(10, 15), sharex = True, dpi=300)\n",
    "\n",
    "for i, col in enumerate(cols_to_plot):\n",
    "    ax[i].plot(time_values, one_day_snapshot[col], color = colors[i])\n",
    "    ax[i].set_ylabel(col + \" (\" + cols_units[i] + \")\")\n",
    "\n",
    "ax[-1].set_ylabel(cols_to_plot[-1] + \" (\" + cols_units[-1] + \")\", labelpad = 15)\n",
    "fig.tight_layout()"
   ]
  }
 ],
 "metadata": {
  "kernelspec": {
   "display_name": "Python [conda env:base] *",
   "language": "python",
   "name": "conda-base-py"
  },
  "language_info": {
   "codemirror_mode": {
    "name": "ipython",
    "version": 3
   },
   "file_extension": ".py",
   "mimetype": "text/x-python",
   "name": "python",
   "nbconvert_exporter": "python",
   "pygments_lexer": "ipython3",
   "version": "3.12.2"
  }
 },
 "nbformat": 4,
 "nbformat_minor": 5
}
